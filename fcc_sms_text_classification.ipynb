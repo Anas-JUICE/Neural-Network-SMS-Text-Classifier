{
  "cells": [
    {
      "cell_type": "code",
      "execution_count": null,
      "metadata": {
 	"name": "fcc_sms_text_classification",
        "id": "8RZOuS9LWQvv"
      },
      "outputs": [],
      "source": [
        "!pip install --upgrade tensorflow\n",
        "!pip install tensorflow-datasets\n",
        "\n",
        "import tensorflow as tf\n",
        "from tensorflow import keras\n",
        "import tensorflow_datasets as tfds\n",
        "import pandas as pd\n",
        "import numpy as np\n",
        "import matplotlib.pyplot as plt\n",
        "\n",
        "print(tf.__version__)\n"
      ]
    },
    {
      "cell_type": "code",
      "execution_count": null,
      "metadata": {
        "id": "lMHwYXHXCar3"
      },
      "outputs": [],
      "source": [
        "!wget https://cdn.freecodecamp.org/project-data/sms/train-data.tsv\n",
        "!wget https://cdn.freecodecamp.org/project-data/sms/valid-data.tsv\n",
        "\n",
        "train_file_path = \"train-data.tsv\"\n",
        "test_file_path = \"valid-data.tsv\"\n",
        "\n",
        "# Load data into pandas\n",
        "train_data = pd.read_csv(train_file_path, sep=\"\\t\", header=None, names=[\"label\", \"text\"])\n",
        "test_data = pd.read_csv(test_file_path, sep=\"\\t\", header=None, names=[\"label\", \"text\"])\n",
        "\n",
        "# Convert labels to 0 (ham) and 1 (spam)\n",
        "train_data['label'] = train_data['label'].map({'ham':0, 'spam':1})\n",
        "test_data['label'] = test_data['label'].map({'ham':0, 'spam':1})\n",
        "\n",
        "print(train_data.head())\n"
      ]
    },
    {
      "cell_type": "code",
      "execution_count": null,
      "metadata": {
        "id": "g_h508FEClxO"
      },
      "outputs": [],
      "source": [
        "# Tokenize the text\n",
        "vocab_size = 5000       # increase vocab to cover more words\n",
        "embedding_dim = 32      # larger embedding\n",
        "tokenizer = keras.preprocessing.text.Tokenizer(num_words=vocab_size, oov_token=\"<OOV>\")\n",
        "tokenizer.fit_on_texts(train_data['text'])\n",
        "\n",
        "max_length = 50\n",
        "trunc_type = 'post'\n",
        "padding_type = 'post'\n",
        "\n",
        "train_sequences = tokenizer.texts_to_sequences(train_data['text'])\n",
        "train_padded = keras.preprocessing.sequence.pad_sequences(train_sequences, maxlen=max_length, padding=padding_type, truncating=trunc_type)\n",
        "\n",
        "test_sequences = tokenizer.texts_to_sequences(test_data['text'])\n",
        "test_padded = keras.preprocessing.sequence.pad_sequences(test_sequences, maxlen=max_length, padding=padding_type, truncating=trunc_type)\n",
        "\n",
        "train_labels = np.array(train_data['label'])\n",
        "test_labels = np.array(test_data['label'])\n"
      ]
    },
    {
      "cell_type": "code",
      "execution_count": null,
      "metadata": {
        "id": "zOMKywn4zReN"
      },
      "outputs": [],
      "source": [
        "model = keras.Sequential([\n",
        "    keras.layers.Embedding(vocab_size, embedding_dim),\n",
        "    keras.layers.Bidirectional(keras.layers.LSTM(32)),\n",
        "    keras.layers.Dense(16, activation='relu'),\n",
        "    keras.layers.Dense(1, activation='sigmoid')\n",
        "])\n",
        "\n",
        "model.compile(loss='binary_crossentropy', optimizer='adam', metrics=['accuracy'])\n",
        "model.summary()\n",
        "\n",
        "num_epochs = 15\n",
        "history = model.fit(train_padded, train_labels, epochs=num_epochs, validation_data=(test_padded, test_labels))\n"
      ]
    },
    {
      "cell_type": "code",
      "execution_count": null,
      "metadata": {
        "id": "J9tD9yACG6M9"
      },
      "outputs": [],
      "source": [
        "def predict_message(pred_text):\n",
        "    seq = tokenizer.texts_to_sequences([pred_text])\n",
        "    padded = keras.preprocessing.sequence.pad_sequences(seq, maxlen=max_length, padding=padding_type, truncating=trunc_type)\n",
        "    pred_prob = float(model.predict(padded)[0][0])\n",
        "    label = 'spam' if pred_prob > 0.5 else 'ham'\n",
        "    return [pred_prob, label]\n",
        "\n",
        "# Example test\n",
        "pred_text = \"how are you doing today?\"\n",
        "prediction = predict_message(pred_text)\n",
        "print(prediction)\n"
      ]
    },
    {
      "cell_type": "code",
      "execution_count": null,
      "metadata": {
        "id": "Dxotov85SjsC"
      },
      "outputs": [],
      "source": [
        "def test_predictions():\n",
        "    test_messages = [\n",
        "        \"how are you doing today\",\n",
        "        \"sale today! to stop texts call 98912460324\",\n",
        "        \"i dont want to go. can we try it a different day? available sat\",\n",
        "        \"our new mobile video service is live. just install on your phone to start watching.\",\n",
        "        \"you have won £1000 cash! call to claim your prize.\",\n",
        "        \"i'll bring it tomorrow. don't forget the milk.\",\n",
        "        \"wow, is your arm alright. that happened to me one time too\"\n",
        "    ]\n",
        "\n",
        "    test_answers = [\"ham\", \"spam\", \"ham\", \"spam\", \"spam\", \"ham\", \"ham\"]\n",
        "    passed = True\n",
        "\n",
        "    for msg, ans in zip(test_messages, test_answers):\n",
        "        prediction = predict_message(msg)\n",
        "        print(f\"Message: {msg}\\nPredicted: {prediction}\\nExpected: {ans}\\n\")\n",
        "        if prediction[1] != ans:\n",
        "            passed = False\n",
        "\n",
        "    if passed:\n",
        "        print(\"You passed the challenge. Great job!\")\n",
        "    else:\n",
        "        print(\"You haven't passed yet. Keep trying.\")\n",
        "\n",
        "test_predictions()\n"
      ]
    }
  ],
  "metadata": {
    "colab": {
      "name": "fcc_sms_text_classification.ipynb",
      "private_outputs": true,
      "provenance": [],
      "toc_visible": true
    },
    "kernelspec": {
      "display_name": "Python 3",
      "name": "python3"
    },
    "language_info": {}
  },
  "nbformat": 4,
  "nbformat_minor": 0
}